{
 "cells": [
  {
   "cell_type": "raw",
   "id": "1e00c4da-1ec9-4402-a28b-6ad4b241b3a8",
   "metadata": {},
   "source": [
    "---\n",
    "title: \"Quarto Basics\"\n",
    "format: \n",
    "  html:\n",
    "    code-fold: true\n",
    "jupyter: python3\n",
    "---"
   ]
  },
  {
   "cell_type": "markdown",
   "id": "8776c2d1-722b-4e14-8b78-4b3f50f45bd4",
   "metadata": {},
   "source": [
    "## Polar Axis\n",
    "\n",
    "For a demonstration of a line plot on a polar axis, see @fig-polar."
   ]
  },
  {
   "cell_type": "code",
   "execution_count": null,
   "id": "2d680db0-67dd-43b9-b1c1-6e9df46f342e",
   "metadata": {
    "execution": {
     "iopub.execute_input": "2024-07-16T05:56:05.075831Z",
     "iopub.status.busy": "2024-07-16T05:56:05.075554Z",
     "iopub.status.idle": "2024-07-16T05:56:05.474047Z",
     "shell.execute_reply": "2024-07-16T05:56:05.473820Z"
    }
   },
   "outputs": [],
   "source": [
    "#| label: fig-polar\n",
    "#| fig-cap: \"A line plot on a polar axis\"\n",
    "\n",
    "import pandas as pd\n",
    "import matplotlib.pyplot as plt\n",
    "\n",
    "# Load CSV file into DataFrame\n",
    "df = pd.read_csv('benchmark.csv')\n",
    "\n",
    "df_pytorch = df[df[\"Runtime\"]==\"PyTorch\"]\n",
    "#df_trv = df[df[\"Runtime\"]==\"tinyRuntime\"].loc[df[\"Quantization\"]==False]\n",
    "#df_trq = df[df[\"Runtime\"]==\"tinyRuntime\"].loc[df[\"Quantization\"]==True]\n",
    "plt.plot(df_pytorch[\"Commit\"], df_pytorch[\"Accuracy\"], \"o\")"
   ]
  },
  {
   "cell_type": "code",
   "execution_count": null,
   "id": "ce46af42-a110-4bde-aef5-be75b777f14a",
   "metadata": {},
   "outputs": [],
   "source": []
  }
 ],
 "metadata": {
  "kernelspec": {
   "display_name": "Python 3 (ipykernel)",
   "language": "python",
   "name": "python3"
  },
  "language_info": {
   "codemirror_mode": {
    "name": "ipython",
    "version": 3
   },
   "file_extension": ".py",
   "mimetype": "text/x-python",
   "name": "python",
   "nbconvert_exporter": "python",
   "pygments_lexer": "ipython3",
   "version": "3.11.9"
  }
 },
 "nbformat": 4,
 "nbformat_minor": 5
}
